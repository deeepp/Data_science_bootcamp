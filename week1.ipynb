{
  "nbformat": 4,
  "nbformat_minor": 0,
  "metadata": {
    "colab": {
      "provenance": []
    },
    "kernelspec": {
      "name": "python3",
      "display_name": "Python 3"
    },
    "language_info": {
      "name": "python"
    }
  },
  "cells": [
    {
      "cell_type": "markdown",
      "source": [
        "1.⁠ ⁠Display Fibonacci Series upto 10 terms\n",
        "\n"
      ],
      "metadata": {
        "id": "PDwb11TxA5mY"
      }
    },
    {
      "cell_type": "code",
      "source": [
        "L=[]\n",
        "for i in range(10):\n",
        "  k=i if i<2 else L[-1]+L[-2]\n",
        "  L.append(k)\n",
        "print(L)\n"
      ],
      "metadata": {
        "colab": {
          "base_uri": "https://localhost:8080/"
        },
        "id": "H3-p9Ku5A5Tt",
        "outputId": "9519e3c6-56ec-40f3-9106-cbaae61cc6c1"
      },
      "execution_count": 5,
      "outputs": [
        {
          "output_type": "stream",
          "name": "stdout",
          "text": [
            "[0, 1, 1, 2, 3, 5, 8, 13, 21, 34]\n"
          ]
        }
      ]
    },
    {
      "cell_type": "markdown",
      "source": [
        "2.⁠ ⁠Display numbers at the odd indices of a list\n",
        "\n"
      ],
      "metadata": {
        "id": "Szcj0OtfA_Tk"
      }
    },
    {
      "cell_type": "code",
      "source": [
        "L=[1,2,3,4,5]\n",
        "for i in range(len(L)):\n",
        "  if i%2==1:\n",
        "    print(L[i])"
      ],
      "metadata": {
        "colab": {
          "base_uri": "https://localhost:8080/"
        },
        "id": "0SgZyMQRA-b_",
        "outputId": "5e6c02b2-6227-4156-f69b-138d1204fef5"
      },
      "execution_count": 6,
      "outputs": [
        {
          "output_type": "stream",
          "name": "stdout",
          "text": [
            "2\n",
            "4\n"
          ]
        }
      ]
    },
    {
      "cell_type": "markdown",
      "source": [
        "3.⁠ ⁠⁠string = \"\"\"\n",
        "\n",
        "I have provided this text to provide tips on creating interesting paragraphs.\n",
        "\n",
        "First, start with a clear topic sentence that introduces the main idea.\n",
        "\n",
        "Then, support the topic sentence with specific details, examples, and evidence.\n",
        "\n",
        "Vary the sentence length and structure to keep the reader engaged.\n",
        "\n",
        "Finally, end with a strong concluding sentence that summarizes the main points.\n",
        "\n",
        "Remember, practice makes perfect!\n",
        "\n",
        "\"\"\"\n",
        "\n",
        "Your task is to count the number of different words in this text\n",
        "\n"
      ],
      "metadata": {
        "id": "aCj4UzrwBBdU"
      }
    },
    {
      "cell_type": "code",
      "source": [
        "string=\"\"\"\n",
        "\n",
        "I have provided this text to provide tips on creating interesting paragraphs.\n",
        "\n",
        "First, start with a clear topic sentence that introduces the main idea.\n",
        "\n",
        "Then, support the topic sentence with specific details, examples, and evidence.\n",
        "\n",
        "Vary the sentence length and structure to keep the reader engaged.\n",
        "\n",
        "Finally, end with a strong concluding sentence that summarizes the main points.\n",
        "\n",
        "Remember, practice makes perfect!\n",
        "\n",
        "\"\"\"\n",
        "c=0\n",
        "for words in string.split(\" \"):\n",
        "  c+=1\n",
        "print(f\"no. of words:{c}\")"
      ],
      "metadata": {
        "colab": {
          "base_uri": "https://localhost:8080/"
        },
        "id": "IG9J8G4HCQ5j",
        "outputId": "a8c50ea5-5d49-4881-b143-100505548de7"
      },
      "execution_count": 8,
      "outputs": [
        {
          "output_type": "stream",
          "name": "stdout",
          "text": [
            "no. of words:57\n"
          ]
        }
      ]
    },
    {
      "cell_type": "markdown",
      "source": [
        "4.⁠ ⁠Write a function count_vowels(word) that takes a word as an argument and returns the number of vowels in the word\n",
        "\n"
      ],
      "metadata": {
        "id": "Jso_lB0qBEFF"
      }
    },
    {
      "cell_type": "code",
      "execution_count": 9,
      "metadata": {
        "colab": {
          "base_uri": "https://localhost:8080/"
        },
        "id": "YJr6SzIIAZCf",
        "outputId": "ad4448a9-88c5-4600-e959-1e191bedc7ee"
      },
      "outputs": [
        {
          "output_type": "stream",
          "name": "stdout",
          "text": [
            "2\n"
          ]
        }
      ],
      "source": [
        "vowels=['a','e','i','o','u']\n",
        "def count_vowels(word):\n",
        "  word.lower()\n",
        "  c=0\n",
        "  for x in word:\n",
        "    if x in vowels:\n",
        "      c+=1\n",
        "  return c\n",
        "print(count_vowels(\"hello\"))\n"
      ]
    },
    {
      "cell_type": "markdown",
      "source": [
        "5.⁠ ⁠Iterate through the following list of animals and print each one in all caps.\n",
        "\n",
        "animals=['tiger', 'elephant', 'monkey', 'zebra', 'panther']\n",
        "\n"
      ],
      "metadata": {
        "id": "wNmdxtrTBFXh"
      }
    },
    {
      "cell_type": "code",
      "source": [
        "animals=['tiger', 'elephant', 'monkey', 'zebra', 'panther']\n",
        "for x in animals:\n",
        "  print(x.upper())\n"
      ],
      "metadata": {
        "colab": {
          "base_uri": "https://localhost:8080/"
        },
        "id": "sBJC_RpoBGtm",
        "outputId": "dd96a7ce-f306-44bc-c05e-2eb120e2f94b"
      },
      "execution_count": 10,
      "outputs": [
        {
          "output_type": "stream",
          "name": "stdout",
          "text": [
            "TIGER\n",
            "ELEPHANT\n",
            "MONKEY\n",
            "ZEBRA\n",
            "PANTHER\n"
          ]
        }
      ]
    },
    {
      "cell_type": "markdown",
      "source": [
        "6.⁠ ⁠Write a program that iterates from 1 to 20, printing each number and whether it's odd or even.\n",
        "\n"
      ],
      "metadata": {
        "id": "36Za_4-7BHAB"
      }
    },
    {
      "cell_type": "code",
      "source": [
        "for i in range(1,21):\n",
        "  t=\"even\" if i%2==0 else \"odd\"\n",
        "  print(i,\" \",t)"
      ],
      "metadata": {
        "colab": {
          "base_uri": "https://localhost:8080/"
        },
        "id": "ZX_m80uEBIbb",
        "outputId": "aaa0a82a-4daa-4414-948f-5ee862a89536"
      },
      "execution_count": 11,
      "outputs": [
        {
          "output_type": "stream",
          "name": "stdout",
          "text": [
            "1   odd\n",
            "2   even\n",
            "3   odd\n",
            "4   even\n",
            "5   odd\n",
            "6   even\n",
            "7   odd\n",
            "8   even\n",
            "9   odd\n",
            "10   even\n",
            "11   odd\n",
            "12   even\n",
            "13   odd\n",
            "14   even\n",
            "15   odd\n",
            "16   even\n",
            "17   odd\n",
            "18   even\n",
            "19   odd\n",
            "20   even\n"
          ]
        }
      ]
    },
    {
      "cell_type": "markdown",
      "source": [
        "7.⁠ ⁠Write a function sum_of_integers(a, b) that takes two integers as input from the user and returns their sum."
      ],
      "metadata": {
        "id": "DfBVkJ-YBIsa"
      }
    },
    {
      "cell_type": "code",
      "source": [
        "\n",
        "def sum_of_integers(a,b):\n",
        "  return a+b\n",
        "a=int(input(\"enter a:\"))\n",
        "b=int(input(\"enter b:\"))\n",
        "print(sum_of_integers(a,b))"
      ],
      "metadata": {
        "colab": {
          "base_uri": "https://localhost:8080/"
        },
        "id": "Wi_Xb2mbBJFq",
        "outputId": "b9cb3292-966c-46ca-ebf3-220e693cb68c"
      },
      "execution_count": 13,
      "outputs": [
        {
          "output_type": "stream",
          "name": "stdout",
          "text": [
            "enter a:2\n",
            "enter b:2\n",
            "4\n"
          ]
        }
      ]
    }
  ]
}